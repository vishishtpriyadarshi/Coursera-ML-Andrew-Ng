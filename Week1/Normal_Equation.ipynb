{
  "cells": [
    {
      "metadata": {
        "trusted": true
      },
      "cell_type": "code",
      "source": "import numpy as np\nimport matplotlib.pyplot as plt\nfrom mpl_toolkits.mplot3d import Axes3D  # needed to plot 3-D surfaces\n\n\n# used for manipulating directory paths\nimport os\n\n%matplotlib inline",
      "execution_count": 1,
      "outputs": []
    },
    {
      "metadata": {
        "trusted": true
      },
      "cell_type": "code",
      "source": "# Load data\ndata = np.loadtxt(os.path.join('Data', 'ex1data2.txt'), delimiter=',')\nX = data[:, :2]\ny = data[:, 2]\nm = y.size\nX = np.concatenate([np.ones((m, 1)), X], axis=1)\n",
      "execution_count": 2,
      "outputs": []
    },
    {
      "metadata": {
        "trusted": true
      },
      "cell_type": "code",
      "source": "def normalEqn(X, y):\n    \"\"\"\n    Parameters\n    ----------\n    X : array_like\n        The dataset of shape (m x n+1).\n    \n    y : array_like\n        The value at each data point. A vector of shape (m, ).\n    \n    Returns\n    -------\n    theta : array_like\n        Estimated linear regression parameters. A vector of shape (n+1, ).\n    \n    \"\"\"\n    theta = np.zeros(X.shape[1])\n    \n    inverse = np.linalg.pinv(np.dot(X.T,X))\n    \n    inv2 = np.dot(inverse,X.T)\n    \n    theta = np.dot(inv2,y)\n    \n    \n    return theta",
      "execution_count": 3,
      "outputs": []
    },
    {
      "metadata": {},
      "cell_type": "markdown",
      "source": "### NOTE:\nNow, once you have found $\\theta$ using this\nmethod, we'll use it to make a price prediction for a 1650-square-foot house with\n3 bedrooms. We will find that gives the same predicted price as the value\nyou obtained using the model fit with gradient descent in Multivariate Regression."
    },
    {
      "metadata": {
        "trusted": true
      },
      "cell_type": "code",
      "source": "# Calculate the parameters from the normal equation\ntheta = normalEqn(X, y);\n\n# Display normal equation's result\nprint('Theta computed from the normal equations: {:s}'.format(str(theta)));\n\n# Estimate the price of a 1650 sq-ft, 3 br house\n\nprice = np.dot([1,1650.,3],theta)\n\n\nprint('Predicted price of a 1650 sq-ft, 3 br house (using normal equations): ${:.0f}'.format(price))",
      "execution_count": 4,
      "outputs": [
        {
          "output_type": "stream",
          "text": "Theta computed from the normal equations: [89597.90954355   139.21067402 -8738.01911255]\nPredicted price of a 1650 sq-ft, 3 br house (using normal equations): $293081\n",
          "name": "stdout"
        }
      ]
    },
    {
      "metadata": {
        "trusted": true
      },
      "cell_type": "code",
      "source": "",
      "execution_count": null,
      "outputs": []
    }
  ],
  "metadata": {
    "kernelspec": {
      "name": "python36",
      "display_name": "Python 3.6",
      "language": "python"
    },
    "language_info": {
      "mimetype": "text/x-python",
      "nbconvert_exporter": "python",
      "name": "python",
      "pygments_lexer": "ipython3",
      "version": "3.6.6",
      "file_extension": ".py",
      "codemirror_mode": {
        "version": 3,
        "name": "ipython"
      }
    }
  },
  "nbformat": 4,
  "nbformat_minor": 2
}